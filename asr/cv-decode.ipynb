{
 "cells": [
  {
   "cell_type": "code",
   "execution_count": null,
   "id": "b99775cf",
   "metadata": {},
   "outputs": [],
   "source": [
    "# pip install pandas requests tqdm"
   ]
  },
  {
   "cell_type": "markdown",
   "id": "fb5007ed",
   "metadata": {},
   "source": [
    "# Main - API"
   ]
  },
  {
   "cell_type": "code",
   "execution_count": null,
   "id": "a1bae9a5",
   "metadata": {},
   "outputs": [],
   "source": [
    "import os\n",
    "import requests\n",
    "\n",
    "import pandas as pd\n",
    "\n",
    "from tqdm import tqdm\n",
    "\n",
    "# Define the path to the CSV file and the folder containing MP3 files\n",
    "print(os.getcwd())\n",
    "\n",
    "CSV_PATH = r'C:\\Users\\Featherine\\Downloads\\HTX xData Assignment\\common_voice\\cv-valid-dev.csv'\n",
    "SAVE_PATH = r'C:\\Users\\Featherine\\Downloads\\HTX xData Assignment\\asr\\cv-valid-dev-saved.csv'\n",
    "AUDIO_FOLDER = r'C:\\Users\\Featherine\\Downloads\\HTX xData Assignment\\common_voice\\cv-valid-dev'\n",
    "API_URL = 'http://localhost:8001/asr'  # Update this if your API is hosted elsewhere\n",
    "\n",
    "def transcribe_audio(file_path):\n",
    "    \"\"\"\n",
    "    Sends an audio file to the ASR API and returns the transcription.\n",
    "    \"\"\"\n",
    "    try:\n",
    "        with open(file_path, 'rb') as audio_file:\n",
    "            files = {'file': audio_file}\n",
    "            response = requests.post(API_URL, files=files)\n",
    "            response.raise_for_status()\n",
    "            return response.json().get('transcription', '')\n",
    "    except requests.exceptions.RequestException as e:\n",
    "        print(f\"Error transcribing {file_path}: {e}\")\n",
    "        return ''\n",
    "\n",
    "def main():\n",
    "    # Load the CSV file into a DataFrame\n",
    "    df = pd.read_csv(CSV_PATH)\n",
    "\n",
    "    # Ensure there's a 'generated_text' column\n",
    "    if 'generated_text' not in df.columns:\n",
    "        df['generated_text'] = ''\n",
    "\n",
    "    # Iterate over each row and transcribe the corresponding audio file\n",
    "    for index, row in tqdm(df.iterrows(), total=df.shape[0], desc=\"Transcribing audio files\"):\n",
    "        mp3_filename = row.get('filename')\n",
    "        if not mp3_filename:\n",
    "            print(f\"No filename found for row {index}. Skipping.\")\n",
    "            continue\n",
    "\n",
    "        audio_path = os.path.join(AUDIO_FOLDER, mp3_filename)\n",
    "        # print(audio_path)\n",
    "        if not os.path.isfile(audio_path):\n",
    "            print(f\"File {audio_path} does not exist. Skipping.\")\n",
    "            continue\n",
    "\n",
    "        # Transcribe the audio file\n",
    "        transcription = transcribe_audio(audio_path)\n",
    "        # print(transcription)\n",
    "        df.at[index, 'generated_text'] = transcription\n",
    "\n",
    "    # Save the updated DataFrame back to the CSV file\n",
    "    df.to_csv(SAVE_PATH, index=False)\n",
    "    print(f\"Transcription complete. Updated CSV saved to {SAVE_PATH}.\")\n",
    "\n",
    "if __name__ == '__main__':\n",
    "    main()\n"
   ]
  },
  {
   "cell_type": "code",
   "execution_count": null,
   "id": "dcecdb6d",
   "metadata": {},
   "outputs": [],
   "source": []
  },
  {
   "cell_type": "code",
   "execution_count": null,
   "id": "57e44662",
   "metadata": {},
   "outputs": [],
   "source": []
  },
  {
   "cell_type": "markdown",
   "id": "c6ec7267",
   "metadata": {},
   "source": [
    "# Main - Manual (to speed things up)"
   ]
  },
  {
   "cell_type": "code",
   "execution_count": null,
   "id": "0c237fb3",
   "metadata": {},
   "outputs": [],
   "source": [
    "import os\n",
    "import requests\n",
    "\n",
    "import pandas as pd\n",
    "import torchaudio\n",
    "\n",
    "from tqdm import tqdm\n",
    "from transformers import Wav2Vec2ForCTC, Wav2Vec2Tokenizer\n",
    "from jiwer import wer\n",
    "\n",
    "CSV_PATH = r'C:\\Users\\Featherine\\Downloads\\HTX xData Assignment\\common_voice\\cv-valid-dev.csv'\n",
    "SAVE_PATH = r'C:\\Users\\Featherine\\Downloads\\HTX xData Assignment\\asr\\cv-valid-dev-saved.csv'\n",
    "AUDIO_FOLDER = r'C:\\Users\\Featherine\\Downloads\\HTX xData Assignment\\common_voice\\cv-valid-dev'\n",
    "\n",
    "# Load pre-trained model and tokenizer\n",
    "model_name = \"facebook/wav2vec2-base-960h\"\n",
    "# model_name = \"facebook/wav2vec2-large-960h\"\n",
    "tokenizer = Wav2Vec2Tokenizer.from_pretrained(model_name)\n",
    "model = Wav2Vec2ForCTC.from_pretrained(model_name)\n",
    "\n",
    "# Load the CSV file into a DataFrame\n",
    "df = pd.read_csv(CSV_PATH)\n",
    "\n",
    "# Ensure there's a 'generated_text' column\n",
    "if 'generated_text' not in df.columns:\n",
    "    df['generated_text'] = ''\n",
    "\n",
    "# Iterate over each row and transcribe the corresponding audio file\n",
    "for index, row in tqdm(df.iterrows(), total=df.shape[0], desc=\"Transcribing audio files\"):\n",
    "    mp3_filename = row.get('filename')\n",
    "    if not mp3_filename:\n",
    "        print(f\"No filename found for row {index}. Skipping.\")\n",
    "        continue\n",
    "\n",
    "    audio_path = os.path.join(AUDIO_FOLDER, mp3_filename)\n",
    "    # print(audio_path)\n",
    "    if not os.path.isfile(audio_path):\n",
    "        print(f\"File {audio_path} does not exist. Skipping.\")\n",
    "        continue\n",
    "\n",
    "    # Transcribe the audio file\n",
    "    # Load and process audio\n",
    "    # waveform, sample_rate = torchaudio.load(file_path)\n",
    "    waveform, sample_rate = torchaudio.load(audio_path)\n",
    "    # Resample if necessary\n",
    "    if sample_rate != 16000:\n",
    "        resampler = torchaudio.transforms.Resample(orig_freq=sample_rate, new_freq=16000)\n",
    "        waveform = resampler(waveform)\n",
    "    input_values = tokenizer(waveform.squeeze().numpy(), return_tensors=\"pt\").input_values\n",
    "\n",
    "    # Perform inference\n",
    "    logits = model(input_values).logits\n",
    "    predicted_ids = logits.argmax(dim=-1)\n",
    "    transcription = tokenizer.decode(predicted_ids[0])\n",
    "\n",
    "    # Calculate duration\n",
    "    duration = waveform.shape[1] / 16000.0\n",
    "    \n",
    "    # print(transcription)\n",
    "    df.at[index, 'generated_text'] = transcription\n",
    "\n",
    "# Save the updated DataFrame back to the CSV file\n",
    "df.to_csv(SAVE_PATH, index=False)\n",
    "print(f\"Transcription complete. Updated CSV saved to {SAVE_PATH}.\")"
   ]
  },
  {
   "cell_type": "code",
   "execution_count": 1,
   "id": "cf8e4d2a",
   "metadata": {},
   "outputs": [
    {
     "name": "stdout",
     "output_type": "stream",
     "text": [
      "Test WER: 0.14384739667483193\n"
     ]
    }
   ],
   "source": [
    "import pandas as pd\n",
    "from jiwer import wer\n",
    "SAVE_PATH = r'C:\\Users\\Featherine\\Downloads\\HTX xData Assignment\\asr\\cv-valid-dev-saved.csv'\n",
    "\n",
    "test_df = pd.read_csv(SAVE_PATH)\n",
    "\n",
    "# Calculate WER\n",
    "text = [str(x) for x in test_df['text'].tolist()]\n",
    "text_gen = [str(x).lower() for x in test_df['generated_text'].tolist()]\n",
    "wer_score = wer(text, text_gen)\n",
    "print(f\"Test WER: {wer_score}\")"
   ]
  },
  {
   "cell_type": "code",
   "execution_count": null,
   "id": "44eef96b",
   "metadata": {},
   "outputs": [],
   "source": [
    "test_df"
   ]
  },
  {
   "cell_type": "code",
   "execution_count": null,
   "id": "4d6042e6",
   "metadata": {},
   "outputs": [],
   "source": [
    "df"
   ]
  },
  {
   "cell_type": "code",
   "execution_count": null,
   "id": "a6c9dd51",
   "metadata": {},
   "outputs": [],
   "source": []
  }
 ],
 "metadata": {
  "kernelspec": {
   "display_name": "Python 3",
   "language": "python",
   "name": "python3"
  },
  "language_info": {
   "codemirror_mode": {
    "name": "ipython",
    "version": 3
   },
   "file_extension": ".py",
   "mimetype": "text/x-python",
   "name": "python",
   "nbconvert_exporter": "python",
   "pygments_lexer": "ipython3",
   "version": "3.11.9"
  }
 },
 "nbformat": 4,
 "nbformat_minor": 5
}
