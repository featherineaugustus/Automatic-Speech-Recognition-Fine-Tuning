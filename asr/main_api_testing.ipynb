{
 "cells": [
  {
   "cell_type": "markdown",
   "id": "52e16398",
   "metadata": {},
   "source": [
    "# Testing"
   ]
  },
  {
   "cell_type": "code",
   "execution_count": null,
   "id": "44b62843",
   "metadata": {},
   "outputs": [
    {
     "name": "stderr",
     "output_type": "stream",
     "text": [
      "The tokenizer class you load from this checkpoint is not the same type as the class this function is called from. It may result in unexpected tokenization. \n",
      "The tokenizer class you load from this checkpoint is 'Wav2Vec2CTCTokenizer'. \n",
      "The class this function is called from is 'Wav2Vec2Tokenizer'.\n",
      "Some weights of the model checkpoint at facebook/wav2vec2-base-960h were not used when initializing Wav2Vec2ForCTC: ['wav2vec2.encoder.pos_conv_embed.conv.weight_g', 'wav2vec2.encoder.pos_conv_embed.conv.weight_v']\n",
      "- This IS expected if you are initializing Wav2Vec2ForCTC from the checkpoint of a model trained on another task or with another architecture (e.g. initializing a BertForSequenceClassification model from a BertForPreTraining model).\n",
      "- This IS NOT expected if you are initializing Wav2Vec2ForCTC from the checkpoint of a model that you expect to be exactly identical (initializing a BertForSequenceClassification model from a BertForSequenceClassification model).\n",
      "Some weights of Wav2Vec2ForCTC were not initialized from the model checkpoint at facebook/wav2vec2-base-960h and are newly initialized: ['wav2vec2.encoder.pos_conv_embed.conv.parametrizations.weight.original0', 'wav2vec2.encoder.pos_conv_embed.conv.parametrizations.weight.original1', 'wav2vec2.masked_spec_embed']\n",
      "You should probably TRAIN this model on a down-stream task to be able to use it for predictions and inference.\n"
     ]
    },
    {
     "name": "stdout",
     "output_type": "stream",
     "text": [
      "Process Audio\n"
     ]
    },
    {
     "data": {
      "text/plain": [
       "{'transcription': \"MY THOUGHT I HAVE NOBODY BY A BEAUTY AND WILL AS YOU PURED MISTER ROCHESTER IS SUB AND THAT SO DON'T FINE SEMPEST AND DEVOTED TA BOWD TO WHAT MIGHT IN A\",\n",
       " 'duration': '10.0426875'}"
      ]
     },
     "execution_count": 3,
     "metadata": {},
     "output_type": "execute_result"
    }
   ],
   "source": [
    "# asr/asr_api.py\n",
    "from flask import Flask, request, jsonify\n",
    "from transformers import Wav2Vec2ForCTC, Wav2Vec2Tokenizer\n",
    "import torchaudio\n",
    "import os\n",
    "\n",
    "app = Flask(__name__)\n",
    "\n",
    "# Load pre-trained model and tokenizer\n",
    "model_name = \"facebook/wav2vec2-base-960h\"\n",
    "# model_name = \"facebook/wav2vec2-large-960h\"\n",
    "\n",
    "tokenizer = Wav2Vec2Tokenizer.from_pretrained(model_name)\n",
    "model = Wav2Vec2ForCTC.from_pretrained(model_name)\n",
    "\n",
    "file_path = \"/Users/Featherine/Downloads/HTX xData Assignment/asr/sample.mp3\"\n",
    "\n",
    "# Load and process audio\n",
    "print('Process Audio')\n",
    "waveform, sample_rate = torchaudio.load(file_path)\n",
    "# Resample if necessary\n",
    "if sample_rate != 16000:\n",
    "    resampler = torchaudio.transforms.Resample(orig_freq=sample_rate, new_freq=16000)\n",
    "    waveform = resampler(waveform)\n",
    "input_values = tokenizer(waveform.squeeze().numpy(), return_tensors=\"pt\").input_values\n",
    "\n",
    "# Perform inference\n",
    "logits = model(input_values).logits\n",
    "predicted_ids = logits.argmax(dim=-1)\n",
    "transcription = tokenizer.decode(predicted_ids[0])\n",
    "\n",
    "# Calculate duration\n",
    "duration = waveform.shape[1] / 16000.0\n",
    "\n",
    "{\"transcription\": transcription, \"duration\": str(duration)}\n"
   ]
  },
  {
   "cell_type": "code",
   "execution_count": null,
   "id": "e9d63b06",
   "metadata": {},
   "outputs": [],
   "source": [
    "transcription\n",
    "duration"
   ]
  },
  {
   "cell_type": "markdown",
   "id": "30e90565",
   "metadata": {},
   "source": [
    "# Run Flask Application"
   ]
  },
  {
   "cell_type": "code",
   "execution_count": null,
   "id": "57b27d6a",
   "metadata": {},
   "outputs": [],
   "source": [
    "# Command Prompt\n",
    "set FLASK_APP=asr_api.py\n",
    "set FLASK_ENV=development\n",
    "flask run --host=0.0.0.0 --port=8001"
   ]
  },
  {
   "cell_type": "code",
   "execution_count": null,
   "id": "f96ff0d8",
   "metadata": {},
   "outputs": [],
   "source": []
  },
  {
   "cell_type": "markdown",
   "id": "bda015a3",
   "metadata": {},
   "source": [
    "# Test API Endpoints"
   ]
  },
  {
   "cell_type": "code",
   "execution_count": null,
   "id": "b179466e",
   "metadata": {},
   "outputs": [],
   "source": [
    "curl http://localhost:8001/ping\n",
    "# Expect: pong"
   ]
  },
  {
   "cell_type": "code",
   "execution_count": null,
   "id": "0f7c74fa",
   "metadata": {},
   "outputs": [],
   "source": [
    "curl -F \"file=@C:/Users/Featherine/Downloads/HTX xData Assignment/asr/sample.mp3\" http://localhost:8001/asr\n"
   ]
  }
 ],
 "metadata": {
  "kernelspec": {
   "display_name": "Python 3",
   "language": "python",
   "name": "python3"
  },
  "language_info": {
   "codemirror_mode": {
    "name": "ipython",
    "version": 3
   },
   "file_extension": ".py",
   "mimetype": "text/x-python",
   "name": "python",
   "nbconvert_exporter": "python",
   "pygments_lexer": "ipython3",
   "version": "3.11.9"
  }
 },
 "nbformat": 4,
 "nbformat_minor": 5
}
