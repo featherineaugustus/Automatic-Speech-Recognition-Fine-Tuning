{
 "cells": [
  {
   "cell_type": "markdown",
   "id": "2e7dea9e",
   "metadata": {},
   "source": [
    "# Import Libraries"
   ]
  },
  {
   "cell_type": "code",
   "execution_count": null,
   "id": "220b728e",
   "metadata": {},
   "outputs": [],
   "source": [
    "import os\n",
    "import torch\n",
    "import json\n",
    "\n",
    "import numpy as np\n",
    "import pandas as pd\n",
    "import torchaudio\n",
    "\n",
    "from tqdm import tqdm\n",
    "from transformers import Wav2Vec2Processor, Wav2Vec2ForCTC, Trainer, TrainingArguments, AutoProcessor, Wav2Vec2Tokenizer, Wav2Vec2CTCTokenizer\n",
    "from transformers import Wav2Vec2FeatureExtractor\n",
    "from dataclasses import dataclass, field\n",
    "from typing import Any, Dict, List, Optional, Union\n",
    "from datasets import load_dataset, Dataset, DatasetDict, Audio\n",
    "from jiwer import wer"
   ]
  },
  {
   "cell_type": "code",
   "execution_count": null,
   "id": "89e97300",
   "metadata": {},
   "outputs": [],
   "source": [
    "# Check if CUDA (GPU support) is available\n",
    "print(\"CUDA Available:\", torch.cuda.is_available())\n",
    "\n",
    "# Print the name of the GPU\n",
    "if torch.cuda.is_available():\n",
    "    print(\"Device Name:\", torch.cuda.get_device_name(0))\n",
    "    print(\"Current Device:\", torch.cuda.current_device())\n",
    "    print(\"Total GPUs:\", torch.cuda.device_count())\n",
    "else:\n",
    "    print(\"Running on CPU\")\n",
    "    \n",
    "device = torch.device(\"cuda\" if torch.cuda.is_available() else \"cpu\")\n",
    "print(device)"
   ]
  },
  {
   "cell_type": "markdown",
   "id": "100b9f09",
   "metadata": {},
   "source": [
    "# Data Preparation"
   ]
  },
  {
   "cell_type": "code",
   "execution_count": null,
   "metadata": {},
   "outputs": [],
   "source": [
    "# Load CSV\n",
    "df = pd.read_csv(r'C:\\Users\\Featherine\\Downloads\\HTX xData Assignment\\common_voice\\cv-valid-train.csv')\n",
    "\n",
    "# Take first n row (testing)\n",
    "df = df.iloc[:1000]\n",
    "\n",
    "AUDIO_FOLDER = r'C:\\Users\\Featherine\\Downloads\\HTX xData Assignment\\common_voice\\cv-valid-train'\n",
    "\n",
    "df['file'] = df['filename']\n",
    "df['audio'] = df['file'].apply(lambda x: os.path.join(AUDIO_FOLDER, x))\n",
    "\n",
    "# Create Hugging Face Dataset\n",
    "dataset = Dataset.from_pandas(df)\n",
    "\n",
    "dataset = dataset.cast_column(\"audio\", Audio(sampling_rate=16000))\n",
    "\n",
    "dataset = dataset.remove_columns([\n",
    "    \"filename\", \"accent\", \"age\", \"down_votes\", \"gender\", \"up_votes\", \"duration\"])\n",
    "\n",
    "dataset = dataset.train_test_split(test_size=0.3)\n",
    "dataset"
   ]
  },
  {
   "cell_type": "code",
   "execution_count": null,
   "id": "ee9fcc61",
   "metadata": {},
   "outputs": [],
   "source": [
    "dataset['train'][0]"
   ]
  },
  {
   "cell_type": "code",
   "execution_count": null,
   "id": "b166faef",
   "metadata": {},
   "outputs": [],
   "source": [
    "def extract_characters(batch):\n",
    "  texts = \" \".join(batch[\"text\"])\n",
    "  vocab = list(set(texts))\n",
    "  return {\"vocab\": [vocab], \"texts\": [texts]}\n",
    "\n",
    "vocabs = dataset.map(extract_characters, batched=True, batch_size=-1, \n",
    "                   keep_in_memory=True, remove_columns= dataset.column_names[\"train\"])\n",
    "\n",
    "vocab_list = list(set(vocabs[\"train\"][\"vocab\"][0]) | set(vocabs[\"test\"][\"vocab\"][0]))\n",
    "vocab_dict = {v: k for k, v in enumerate(vocab_list)}\n",
    "vocab_dict[\"|\"] = vocab_dict[\" \"]\n",
    "del vocab_dict[\" \"]\n",
    "\n",
    "vocab_dict[\"[UNK]\"] = len(vocab_dict) # add \"unknown\" token \n",
    "vocab_dict[\"[PAD]\"] = len(vocab_dict) # add a padding token that corresponds to CTC's \"blank token\"\n",
    "\n",
    "with open('vocab.json', 'w') as vocab_file:\n",
    "    json.dump(vocab_dict, vocab_file)"
   ]
  },
  {
   "cell_type": "code",
   "execution_count": null,
   "id": "c2d27f83",
   "metadata": {},
   "outputs": [],
   "source": []
  },
  {
   "cell_type": "code",
   "execution_count": null,
   "id": "ec0cc39a",
   "metadata": {},
   "outputs": [],
   "source": []
  },
  {
   "cell_type": "markdown",
   "id": "3cbd2b44",
   "metadata": {},
   "source": [
    "# Preprocessing"
   ]
  },
  {
   "cell_type": "code",
   "execution_count": null,
   "id": "68535057",
   "metadata": {},
   "outputs": [],
   "source": [
    "model_name = \"facebook/wav2vec2-base-960h\"\n",
    "\n",
    "# create Wav2Vec2 tokenizer\n",
    "tokenizer = Wav2Vec2CTCTokenizer(\"vocab.json\", unk_token=\"[UNK]\",\n",
    "                                  pad_token=\"[PAD]\", word_delimiter_token=\"|\")\n",
    "\n",
    "# create Wav2Vec2 feature extractor\n",
    "feature_extractor = Wav2Vec2FeatureExtractor(feature_size=1, sampling_rate=16000, \n",
    "                                             padding_value=0.0, do_normalize=True, return_attention_mask=False)\n",
    "# create a processor pipeline \n",
    "processor = Wav2Vec2Processor(feature_extractor=feature_extractor, tokenizer=tokenizer)\n",
    "# processor = Wav2Vec2Processor.from_pretrained(model_name)\n",
    "\n",
    "# extract the numerical representation from the dataset\n",
    "def extract_array_samplingrate(batch):\n",
    "    batch[\"speech\"] = batch['audio']['array'].tolist()\n",
    "    batch[\"sampling_rate\"] = batch['audio']['sampling_rate']\n",
    "    batch[\"target_text\"] = batch[\"text\"]\n",
    "    return batch\n",
    "\n",
    "dataset = dataset.map(extract_array_samplingrate, \n",
    "                      remove_columns=dataset.column_names[\"train\"])\n",
    "\n",
    "# process the dataset with processor pipeline that created above\n",
    "def process_dataset(batch):  \n",
    "    batch[\"input_values\"] = processor(batch[\"speech\"], \n",
    "                            sampling_rate=batch[\"sampling_rate\"][0]).input_values\n",
    "\n",
    "    with processor.as_target_processor():\n",
    "        batch[\"labels\"] = processor(batch[\"target_text\"]).input_ids\n",
    "    return batch\n",
    "\n",
    "data_processed = dataset.map(process_dataset, \n",
    "                    remove_columns=dataset.column_names[\"train\"], batch_size=8, \n",
    "                    batched=True)"
   ]
  },
  {
   "cell_type": "code",
   "execution_count": null,
   "id": "34316d69",
   "metadata": {},
   "outputs": [],
   "source": [
    "train_dataset = data_processed['train']\n",
    "test_dataset = data_processed['test']"
   ]
  },
  {
   "cell_type": "code",
   "execution_count": null,
   "id": "4ceaabed",
   "metadata": {},
   "outputs": [],
   "source": [
    "train_dataset[110]"
   ]
  },
  {
   "cell_type": "code",
   "execution_count": null,
   "id": "312eb22a",
   "metadata": {},
   "outputs": [],
   "source": [
    "text = processor.tokenizer.decode(train_dataset['labels'][4], skip_special_tokens=True)\n",
    "print(text)"
   ]
  },
  {
   "cell_type": "code",
   "execution_count": null,
   "id": "2473139f",
   "metadata": {},
   "outputs": [],
   "source": []
  },
  {
   "cell_type": "markdown",
   "id": "e3e8ec0d",
   "metadata": {},
   "source": [
    "# Training"
   ]
  },
  {
   "cell_type": "code",
   "execution_count": null,
   "id": "d7560731",
   "metadata": {},
   "outputs": [],
   "source": [
    "model = Wav2Vec2ForCTC.from_pretrained(model_name)\n",
    "# Update model configuration for new vocabulary size\n",
    "model.config.pad_token_id = tokenizer.pad_token_id\n",
    "model.config.vocab_size = len(tokenizer)"
   ]
  },
  {
   "cell_type": "code",
   "execution_count": null,
   "id": "b0a02bd7",
   "metadata": {},
   "outputs": [],
   "source": [
    "training_args = TrainingArguments(\n",
    "  output_dir=\"./wav2vec2-base-960h-cv\",\n",
    "  group_by_length=True,\n",
    "  # per_device_train_batch_size=16,\n",
    "  per_device_train_batch_size=1,\n",
    "  evaluation_strategy=\"steps\",\n",
    "  num_train_epochs=3,\n",
    "  fp16=True,\n",
    "  save_steps=500,\n",
    "  eval_steps=500,\n",
    "  logging_steps=500,\n",
    "  learning_rate=1e-4,\n",
    "  warmup_steps=500,\n",
    "  save_total_limit=2,\n",
    ")"
   ]
  },
  {
   "cell_type": "code",
   "execution_count": null,
   "id": "9dbc9cec",
   "metadata": {},
   "outputs": [],
   "source": [
    "def compute_metrics(pred):\n",
    "    pred_logits = pred.predictions\n",
    "    pred_ids = np.argmax(pred_logits, axis=-1)\n",
    "\n",
    "    pred_str = processor.batch_decode(pred_ids)\n",
    "    label_ids = pred.label_ids\n",
    "    # Replace -100 in labels as the pad token id to decode properly\n",
    "    label_ids[label_ids == -100] = processor.tokenizer.pad_token_id\n",
    "    label_str = processor.batch_decode(label_ids, group_tokens=False)\n",
    "\n",
    "    wer_score = wer(label_str, pred_str)\n",
    "    return {\"wer\": wer_score}"
   ]
  },
  {
   "cell_type": "code",
   "execution_count": null,
   "id": "bd70f670",
   "metadata": {},
   "outputs": [],
   "source": [
    "@dataclass\n",
    "class DataCollatorCTCWithPadding:\n",
    "    \"\"\"\n",
    "    Data collator that will dynamically pad the inputs received.\n",
    "    Args:\n",
    "        processor (:class:`~transformers.Wav2Vec2Processor`)\n",
    "            The processor used for proccessing the data.\n",
    "        padding (:obj:`bool`, :obj:`str` or :class:`~transformers.tokenization_utils_base.PaddingStrategy`, `optional`, defaults to :obj:`True`):\n",
    "            Select a strategy to pad the returned sequences (according to the model's padding side and padding index)\n",
    "            among:\n",
    "            * :obj:`True` or :obj:`'longest'`: Pad to the longest sequence in the batch (or no padding if only a single\n",
    "              sequence if provided).\n",
    "            * :obj:`'max_length'`: Pad to a maximum length specified with the argument :obj:`max_length` or to the\n",
    "              maximum acceptable input length for the model if that argument is not provided.\n",
    "            * :obj:`False` or :obj:`'do_not_pad'` (default): No padding (i.e., can output a batch with sequences of\n",
    "              different lengths).\n",
    "        max_length (:obj:`int`, `optional`):\n",
    "            Maximum length of the ``input_values`` of the returned list and optionally padding length (see above).\n",
    "        max_length_labels (:obj:`int`, `optional`):\n",
    "            Maximum length of the ``labels`` returned list and optionally padding length (see above).\n",
    "        pad_to_multiple_of (:obj:`int`, `optional`):\n",
    "            If set will pad the sequence to a multiple of the provided value.\n",
    "            This is especially useful to enable the use of Tensor Cores on NVIDIA hardware with compute capability >=\n",
    "            7.5 (Volta).\n",
    "    \"\"\"\n",
    "\n",
    "    processor: Wav2Vec2Processor\n",
    "    padding: Union[bool, str] = True\n",
    "    max_length: Optional[int] = None\n",
    "    max_length_labels: Optional[int] = None\n",
    "    pad_to_multiple_of: Optional[int] = None\n",
    "    pad_to_multiple_of_labels: Optional[int] = None\n",
    "\n",
    "    def __call__(self, features: List[Dict[str, Union[List[int], torch.Tensor]]]) -> Dict[str, torch.Tensor]:\n",
    "        # split inputs and labels since they have to be of different lengths and need\n",
    "        # different padding methods\n",
    "        input_features = [{\"input_values\": feature[\"input_values\"]} for feature in features]\n",
    "        label_features = [{\"input_ids\": feature[\"labels\"]} for feature in features]\n",
    "\n",
    "        batch = self.processor.pad(\n",
    "            input_features,\n",
    "            padding=self.padding,\n",
    "            max_length=self.max_length,\n",
    "            pad_to_multiple_of=self.pad_to_multiple_of,\n",
    "            return_tensors=\"pt\",\n",
    "        )\n",
    "        with self.processor.as_target_processor():\n",
    "            labels_batch = self.processor.pad(\n",
    "                label_features,\n",
    "                padding=self.padding,\n",
    "                max_length=self.max_length_labels,\n",
    "                pad_to_multiple_of=self.pad_to_multiple_of_labels,\n",
    "                return_tensors=\"pt\",\n",
    "            )\n",
    "\n",
    "        # replace padding with -100 to ignore loss correctly\n",
    "        labels = labels_batch[\"input_ids\"].masked_fill(labels_batch.attention_mask.ne(1), -100)\n",
    "\n",
    "        batch[\"labels\"] = labels\n",
    "\n",
    "        return batch"
   ]
  },
  {
   "cell_type": "code",
   "execution_count": null,
   "id": "1ff870cb",
   "metadata": {},
   "outputs": [],
   "source": [
    "data_collator = DataCollatorCTCWithPadding(processor=processor, padding=True)\n",
    "\n",
    "trainer = Trainer(\n",
    "    model=model,\n",
    "    args=training_args,\n",
    "    compute_metrics=compute_metrics,\n",
    "    train_dataset=train_dataset,\n",
    "    eval_dataset=test_dataset,\n",
    "    tokenizer=processor.feature_extractor,\n",
    "    data_collator=data_collator,\n",
    ")"
   ]
  },
  {
   "cell_type": "code",
   "execution_count": null,
   "id": "f232d892",
   "metadata": {},
   "outputs": [],
   "source": [
    "trainer.train()\n",
    "trainer.save_model(\"./wav2vec2-base-960h-cv\")"
   ]
  },
  {
   "cell_type": "code",
   "execution_count": null,
   "id": "7d6de055",
   "metadata": {},
   "outputs": [],
   "source": [
    "metrics = trainer.evaluate()\n",
    "print(f\"WER: {metrics['eval_wer']}\")"
   ]
  },
  {
   "cell_type": "code",
   "execution_count": null,
   "id": "b98ec5d5",
   "metadata": {},
   "outputs": [],
   "source": []
  },
  {
   "cell_type": "code",
   "execution_count": null,
   "id": "a5075987",
   "metadata": {},
   "outputs": [],
   "source": []
  },
  {
   "cell_type": "markdown",
   "id": "9ca6af79",
   "metadata": {},
   "source": [
    "# Evaluate on Test Set"
   ]
  },
  {
   "cell_type": "code",
   "execution_count": null,
   "id": "36dc51ad",
   "metadata": {},
   "outputs": [],
   "source": [
    "SAVE_PATH = r'C:\\Users\\Featherine\\Downloads\\HTX xData Assignment\\asr-train\\cv-valid-dev-saved.csv'\n",
    "AUDIO_FOLDER = r'C:\\Users\\Featherine\\Downloads\\HTX xData Assignment\\common_voice\\cv-valid-dev'\n",
    "\n",
    "# Load the processor\n",
    "# feature_extractor = Wav2Vec2FeatureExtractor(feature_size=1, sampling_rate=16000, padding_value=0.0, do_normalize=True, return_attention_mask=False)\n",
    "# tokenizer = Wav2Vec2CTCTokenizer(\"./vocab.json\", unk_token=\"[UNK]\", pad_token=\"[PAD]\", word_delimiter_token=\"|\")\n",
    "# processor = Wav2Vec2Processor(feature_extractor=feature_extractor, tokenizer=tokenizer)\n",
    "\n",
    "\n",
    "model_name = \"./wav2vec2-base-960h-cv\"\n",
    "tokenizer = Wav2Vec2Tokenizer.from_pretrained(model_name)\n",
    "model = Wav2Vec2ForCTC.from_pretrained(model_name)\n",
    "model.eval()\n",
    "\n",
    "# Load test CSV\n",
    "test_df = pd.read_csv(r'C:\\Users\\Featherine\\Downloads\\HTX xData Assignment\\common_voice\\cv-valid-dev.csv')\n",
    "\n",
    "# Transcribe each audio file\n",
    "transcriptions = []\n",
    "for path in tqdm(test_df['filename']):\n",
    "    audio_path = os.path.join(AUDIO_FOLDER, path)\n",
    "    \n",
    "    waveform, sample_rate = torchaudio.load(audio_path)\n",
    "    # Resample if necessary\n",
    "    if sample_rate != 16000:\n",
    "        resampler = torchaudio.transforms.Resample(orig_freq=sample_rate, new_freq=16000)\n",
    "        waveform = resampler(waveform)\n",
    "    input_values = tokenizer(waveform.squeeze().numpy(), return_tensors=\"pt\").input_values\n",
    "\n",
    "    # Perform inference\n",
    "    logits = model(input_values).logits\n",
    "    predicted_ids = logits.argmax(dim=-1)\n",
    "    transcription = tokenizer.decode(predicted_ids[0])\n",
    "    # print(transcription)\n",
    "    transcriptions.append(transcription)\n",
    "\n",
    "# Add transcriptions to DataFrame\n",
    "test_df['generated_text'] = transcriptions\n",
    "\n",
    "test_df.to_csv(SAVE_PATH, index=False)\n",
    "print(f\"Transcription complete. Updated CSV saved to {SAVE_PATH}.\")"
   ]
  },
  {
   "cell_type": "code",
   "execution_count": null,
   "id": "7ee4075e",
   "metadata": {},
   "outputs": [],
   "source": [
    "input_values"
   ]
  },
  {
   "cell_type": "markdown",
   "id": "87d9ff76",
   "metadata": {},
   "source": [
    "# Get results"
   ]
  },
  {
   "cell_type": "code",
   "execution_count": 22,
   "id": "3dc26bd9",
   "metadata": {},
   "outputs": [
    {
     "name": "stdout",
     "output_type": "stream",
     "text": [
      "Test WER: 0.1081200813050503\n"
     ]
    }
   ],
   "source": [
    "import pandas as pd\n",
    "from jiwer import wer\n",
    "\n",
    "SAVE_PATH = r'C:\\Users\\Featherine\\Downloads\\HTX xData Assignment\\asr-train\\cv-valid-dev-saved.csv'\n",
    "test_df = pd.read_csv(SAVE_PATH)\n",
    "\n",
    "# Calculate WER\n",
    "text = [str(x) for x in test_df['text'].tolist()]\n",
    "text_gen = [str(x).lower() for x in test_df['generated_text'].tolist()]\n",
    "wer_score = wer(text, text_gen)\n",
    "print(f\"Test WER: {wer_score}\")"
   ]
  },
  {
   "cell_type": "code",
   "execution_count": null,
   "id": "19e81558",
   "metadata": {},
   "outputs": [],
   "source": []
  },
  {
   "cell_type": "code",
   "execution_count": null,
   "id": "f96954d0",
   "metadata": {},
   "outputs": [],
   "source": []
  },
  {
   "cell_type": "code",
   "execution_count": null,
   "id": "b282d585",
   "metadata": {},
   "outputs": [],
   "source": []
  },
  {
   "cell_type": "code",
   "execution_count": null,
   "id": "0908145b",
   "metadata": {},
   "outputs": [],
   "source": []
  },
  {
   "cell_type": "code",
   "execution_count": null,
   "id": "e8ed9047",
   "metadata": {},
   "outputs": [],
   "source": []
  },
  {
   "cell_type": "code",
   "execution_count": null,
   "id": "f5f23ec5",
   "metadata": {},
   "outputs": [],
   "source": []
  },
  {
   "cell_type": "code",
   "execution_count": null,
   "id": "12582361",
   "metadata": {},
   "outputs": [],
   "source": []
  },
  {
   "cell_type": "code",
   "execution_count": null,
   "id": "0dc251b4",
   "metadata": {},
   "outputs": [],
   "source": []
  },
  {
   "cell_type": "code",
   "execution_count": null,
   "id": "ab29fd36",
   "metadata": {},
   "outputs": [],
   "source": []
  },
  {
   "cell_type": "code",
   "execution_count": null,
   "id": "214b64a9",
   "metadata": {},
   "outputs": [],
   "source": []
  },
  {
   "cell_type": "code",
   "execution_count": null,
   "id": "45e06ce7",
   "metadata": {},
   "outputs": [],
   "source": []
  },
  {
   "cell_type": "code",
   "execution_count": null,
   "id": "5028e66f",
   "metadata": {},
   "outputs": [],
   "source": []
  }
 ],
 "metadata": {
  "kernelspec": {
   "display_name": "Python 3",
   "language": "python",
   "name": "python3"
  },
  "language_info": {
   "codemirror_mode": {
    "name": "ipython",
    "version": 3
   },
   "file_extension": ".py",
   "mimetype": "text/x-python",
   "name": "python",
   "nbconvert_exporter": "python",
   "pygments_lexer": "ipython3",
   "version": "3.11.9"
  }
 },
 "nbformat": 4,
 "nbformat_minor": 5
}
