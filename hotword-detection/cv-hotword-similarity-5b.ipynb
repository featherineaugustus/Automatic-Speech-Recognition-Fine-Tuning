{
 "cells": [
  {
   "cell_type": "code",
   "execution_count": 12,
   "id": "28c9efa2",
   "metadata": {},
   "outputs": [
    {
     "name": "stdout",
     "output_type": "stream",
     "text": [
      "load INSTRUCTOR_Transformer\n",
      "max_seq_length  512\n"
     ]
    },
    {
     "name": "stderr",
     "output_type": "stream",
     "text": [
      "100%|██████████| 4076/4076 [03:28<00:00, 19.57it/s]\n"
     ]
    }
   ],
   "source": [
    "import pandas as pd\n",
    "from sentence_transformers import SentenceTransformer, util\n",
    "from InstructorEmbedding import INSTRUCTOR\n",
    "import torch\n",
    "from tqdm import tqdm\n",
    "tqdm.pandas()\n",
    "\n",
    "# Load model\n",
    "# model = SentenceTransformer('hkunlp/instructor-large')\n",
    "model = INSTRUCTOR('hkunlp/instructor-large')\n",
    "\n",
    "# Load dataset\n",
    "df = pd.read_csv('cv-valid-dev-saved.csv')\n",
    "df['generated_text'] = df['generated_text'].apply(lambda x: str(x).lower())\n",
    "\n",
    "# Prepare inputs\n",
    "instructions = [\"Represent the phrase for detecting sensitive commands\"]\n",
    "hotwords = [\"be careful\", \"destroy\", \"stranger\"]\n",
    "hotword_embeddings = model.encode([[instructions[0], hw] for hw in hotwords], convert_to_tensor=True)\n",
    "\n",
    "# Function to check similarity\n",
    "def is_similar(text, threshold=0.6):\n",
    "    embedding = model.encode([instructions[0], text], convert_to_tensor=True)\n",
    "    scores = util.cos_sim(embedding, hotword_embeddings)\n",
    "    return torch.any(scores >= threshold).item()\n",
    "\n",
    "# Compute similarity\n",
    "df['similarity'] = df['generated_text'].progress_apply(lambda x: is_similar(x) if pd.notnull(x) else False)\n",
    "\n",
    "# Save updated file\n",
    "df.to_csv('cv-valid-dev-with-similarity.csv', index=False)\n"
   ]
  },
  {
   "cell_type": "code",
   "execution_count": null,
   "id": "bf19acdf",
   "metadata": {},
   "outputs": [],
   "source": [
    "df"
   ]
  }
 ],
 "metadata": {
  "kernelspec": {
   "display_name": "Python 3",
   "language": "python",
   "name": "python3"
  },
  "language_info": {
   "codemirror_mode": {
    "name": "ipython",
    "version": 3
   },
   "file_extension": ".py",
   "mimetype": "text/x-python",
   "name": "python",
   "nbconvert_exporter": "python",
   "pygments_lexer": "ipython3",
   "version": "3.11.9"
  }
 },
 "nbformat": 4,
 "nbformat_minor": 5
}
