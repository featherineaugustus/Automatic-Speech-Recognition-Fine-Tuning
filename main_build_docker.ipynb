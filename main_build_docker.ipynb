{
 "cells": [
  {
   "cell_type": "markdown",
   "id": "2110b5d5",
   "metadata": {},
   "source": [
    "# Build Docker\n",
    "- May take a while"
   ]
  },
  {
   "cell_type": "code",
   "execution_count": null,
   "id": "2db81b8c",
   "metadata": {},
   "outputs": [],
   "source": [
    "docker build -t asr-api ."
   ]
  },
  {
   "cell_type": "markdown",
   "id": "52772cb6",
   "metadata": {},
   "source": [
    "# Check"
   ]
  },
  {
   "cell_type": "code",
   "execution_count": null,
   "id": "15724869",
   "metadata": {},
   "outputs": [],
   "source": [
    "docker system prune -a --volumes\n",
    "docker images\n",
    "docker ps"
   ]
  },
  {
   "cell_type": "markdown",
   "id": "558aeca2",
   "metadata": {},
   "source": [
    "# Run Docker"
   ]
  },
  {
   "cell_type": "code",
   "execution_count": null,
   "id": "41a5e0ab",
   "metadata": {},
   "outputs": [],
   "source": [
    "docker run -d -p 8001:8001 --name asr-api asr-api"
   ]
  },
  {
   "cell_type": "markdown",
   "id": "b027b802",
   "metadata": {},
   "source": [
    "# Test Docker"
   ]
  },
  {
   "cell_type": "code",
   "execution_count": null,
   "id": "ab5fb6f9",
   "metadata": {},
   "outputs": [],
   "source": [
    "curl http://localhost:8001/ping\n",
    "\n",
    "curl -F \"file=@C:/Users/Featherine/Downloads/HTX xData Assignment/asr/sample.mp3\" http://localhost:8001/asr"
   ]
  }
 ],
 "metadata": {
  "kernelspec": {
   "display_name": "Python 3",
   "language": "python",
   "name": "python3"
  },
  "language_info": {
   "codemirror_mode": {
    "name": "ipython",
    "version": 3
   },
   "file_extension": ".py",
   "mimetype": "text/x-python",
   "name": "python",
   "nbconvert_exporter": "python",
   "pygments_lexer": "ipython3",
   "version": "3.11.9"
  }
 },
 "nbformat": 4,
 "nbformat_minor": 5
}
